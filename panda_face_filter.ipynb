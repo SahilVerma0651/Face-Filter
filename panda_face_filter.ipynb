{
 "cells": [
  {
   "cell_type": "code",
   "execution_count": 1,
   "metadata": {},
   "outputs": [],
   "source": [
    "# import openCV, Haar Cascade model and the filter imaage (panda.jpg here)\n",
    "import cv2\n",
    "cap = cv2.VideoCapture(0)\n",
    "model_face = cv2.CascadeClassifier('haarcascade_frontalface_default.xml')\n",
    "panda = cv2.imread('panda.jpg')"
   ]
  },
  {
   "cell_type": "code",
   "execution_count": 2,
   "metadata": {},
   "outputs": [],
   "source": [
    "# looping over each frame from webcam\n",
    "while True:\n",
    "    status, frame = cap.read()\n",
    "    # detect face from each frame and ignore returned\n",
    "    # matrix which is empty if face is not detected\n",
    "    mat = model_face.detectMultiScale(frame)\n",
    "    if len(mat) == 0:\n",
    "        pass\n",
    "    else:\n",
    "        # apply panda filter on the face after resizing \n",
    "        # filter image to size of face bounding box detected\n",
    "        panda = cv2.resize(panda,(mat[0][2],mat[0][3]))\n",
    "        x1 = mat[0][0]\n",
    "        y1 = mat[0][1]\n",
    "        # masking filter image over frame ignoring white background pixels in filter image \n",
    "        for i in range(mat[0][3]):\n",
    "            for j in range(mat[0][2]):\n",
    "                if panda[i][j][0]==panda[i][j][1]==panda[i][j][2]==255:\n",
    "                    pass\n",
    "                else:\n",
    "                    frame[y1+i][x1+j]=panda[i][j]\n",
    "        cv2.imshow('face',frame)\n",
    "    if cv2.waitKey(10) == 27:\n",
    "        break\n",
    "cv2.destroyAllWindows()\n",
    "cap.release()"
   ]
  }
 ],
 "metadata": {
  "kernelspec": {
   "display_name": "Python 3",
   "language": "python",
   "name": "python3"
  },
  "language_info": {
   "codemirror_mode": {
    "name": "ipython",
    "version": 3
   },
   "file_extension": ".py",
   "mimetype": "text/x-python",
   "name": "python",
   "nbconvert_exporter": "python",
   "pygments_lexer": "ipython3",
   "version": "3.7.4"
  }
 },
 "nbformat": 4,
 "nbformat_minor": 2
}
